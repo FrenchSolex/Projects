{
 "cells": [
  {
   "cell_type": "code",
   "execution_count": 1,
   "id": "aedb791c",
   "metadata": {},
   "outputs": [],
   "source": [
    "import pandas as pd\n",
    "from pathlib import Path"
   ]
  },
  {
   "cell_type": "code",
   "execution_count": 2,
   "id": "d7eb7249",
   "metadata": {},
   "outputs": [],
   "source": [
    "# Localiser le chemin du fichier (on part du notebook vers processed/)\n",
    "processed_path = Path(\"../processed/AMELI_2021_to_2024.csv\")\n",
    "\n",
    "# Charger le fichier CSV\n",
    "df = pd.read_csv(processed_path)"
   ]
  },
  {
   "cell_type": "code",
   "execution_count": 6,
   "id": "a694d5e4",
   "metadata": {},
   "outputs": [
    {
     "data": {
      "text/plain": [
       "0"
      ]
     },
     "execution_count": 6,
     "metadata": {},
     "output_type": "execute_result"
    }
   ],
   "source": [
    "df.duplicated().sum()"
   ]
  },
  {
   "cell_type": "code",
   "execution_count": 8,
   "id": "3a97bd02",
   "metadata": {},
   "outputs": [
    {
     "data": {
      "text/plain": [
       "array(['PREPARATIONS STOMATOLOGIQUES',\n",
       "       \"MEDICAMENTS POUR LES TROUBLES DE L'ACIDITE\",\n",
       "       'MEDICAMENTS POUR LES TROUBLES FONCTIONNELS GASTROINTESTINAUX',\n",
       "       'ANTIEMETIQUES ET ANTINAUSEEUX',\n",
       "       'THERAPEUTIQUE HEPATIQUE ET BILIAIRE', 'LAXATIFS',\n",
       "       'ANTIDIARRHEIQUES, ANTIINFLAMMATOIRES ET ANTIINFECTIEUX INTESTINAUX',\n",
       "       'MEDICAMENTS DE LA DIGESTION, ENZYMES INCLUSES',\n",
       "       'MEDICAMENTS DU DIABETE', 'VITAMINES', 'SUPPLEMENTS MINERAUX',\n",
       "       'TONIQUES', 'ANABOLISANTS A USAGE SYSTEMIQUE',\n",
       "       'AUTRES MEDICAMENTS DES VOIES DIGESTIVES ET DU METABOLISME',\n",
       "       'ANTITHROMBOTIQUES', 'ANTIHEMMORRAGIQUES',\n",
       "       'PREPARATIONS ANTIANEMIQUES',\n",
       "       'SUBSTITUTS DU SANG ET SOLUTIONS DE PERFUSION',\n",
       "       'AUTRES MEDICAMENTS UTILISES EN HEMATOLOGIE',\n",
       "       'MEDICAMENTS EN CARDIOLOGIE', 'ANTIHYPERTENSEURS', 'DIURETIQUES',\n",
       "       'VASODILATATEURS PERIPHERIQUES', 'VASCULOPROTECTEURS',\n",
       "       'BETABLOQUANTS', 'INHIBITEURS CALCIQUES',\n",
       "       'MEDICAMENTS AGISSANT SUR LE SYSTEME RENINE-ANGIOTENSINE',\n",
       "       'AGENTS MODIFIANT LES LIPIDES',\n",
       "       'ANTIFONGIQUES A USAGE DERMATOLOGIQUE',\n",
       "       'EMOLLIENTS ET PROTECTEURS',\n",
       "       'PREPARATIONS POUR LE TRAITEMENT DES PLAIES ET ULCERES',\n",
       "       'MEDICAMENTS CONTRE LE PSORIASIS',\n",
       "       'ANTIBIOTIQUES ET CHIMIOTHERAPIE A USAGE DERMATOLOGIQUE',\n",
       "       'CORTICOIDES, PREPARATIONS DERMATOLOGIQUES',\n",
       "       'ANTISEPTIQUES ET DESINFECTANTS', 'PREPARATIONS ANTIACNEIQUES',\n",
       "       'AUTRES PREPARATIONS DERMATOLOGIQUES',\n",
       "       'ANTIINFECTIEUX ET ANTISEPTIQUES A USAGE GYNECOLOGIQUE',\n",
       "       'AUTRES MEDICAMENTS GYNECOLOGIQUES',\n",
       "       'HORMONES SEXUELLES ET MODULATEURS DE LA FONCTION GENITALE',\n",
       "       'MEDICAMENTS UROLOGIQUES',\n",
       "       'HORMONES HYPOPHYSAIRES,HYPOTHALAMIQUES ET ANALOGUES',\n",
       "       'CORTICOIDES A USAGE SYSTEMIQUE', 'MEDICAMENTS DE LA THYROIDE',\n",
       "       'HORMONES PANCREATIQUES', \"MEDICAMENTS DE L'EQUILIBRE CALCIQUE\",\n",
       "       'ANTIBACTERIENS A USAGE SYSTEMIQUE',\n",
       "       'ANTIMYCOSIQUES A USAGE SYSTEMIQUE', 'ANTIMYCOBACTERIENS',\n",
       "       'ANTIVIRAUX A USAGE SYSTEMIQUE', 'IMMUNSERUMS ET IMMUNOGLOBULINES',\n",
       "       'VACCINS', 'ANTINEOPLASIQUES', 'THERAPEUTIQUE ENDOCRINE',\n",
       "       'IMMUNOSTIMULANTS', 'IMMUNOSUPPRESSEURS',\n",
       "       'ANTIINFLAMMATOIRES ET ANTIRHUMATISMAUX',\n",
       "       'TOPIQUES POUR DOULEURS ARTICULAIRES OU MUSCULAIRES',\n",
       "       'MYORELAXANTS', 'ANTIGOUTTEUX',\n",
       "       'MEDICAMENTS POUR LE TRAITEMENT DES DESORDRES OSSEUX',\n",
       "       'AUTRES MEDICAMENTS DES DESORDRES MUSCULOSQUELETTIQUES',\n",
       "       'ANESTHESIQUES', 'ANALGESIQUES', 'ANTIEPILEPTIQUES',\n",
       "       'ANTIPARKINSONIENS', 'PSYCHOLEPTIQUES', 'PSYCHOANALEPTIQUES',\n",
       "       'AUTRES MEDICAMENTS DU SYSTEME NERVEUX', 'ANTIPROTOZOAIRES',\n",
       "       'ANTHELMINTHIQUES', 'PYRETHRINES', 'PREPARATIONS NASALES',\n",
       "       'MEDICAMENTS POUR LES SYNDROMES OBSTRUCTIFS DES VOIES AERIENNES',\n",
       "       'MEDICAMENTS DU RHUME ET DE LA TOUX',\n",
       "       'ANTIHISTAMINIQUES A USAGE SYSTEMIQUE',\n",
       "       \"AUTRES MEDICAMENTS DE L'APPAREIL RESPIRATOIRE\",\n",
       "       'MEDICAMENTS OPHTALMOLOGIQUES', 'MEDICAMENTS OTOLOGIQUES',\n",
       "       'ALLERGENES', 'TOUS AUTRES MEDICAMENTS',\n",
       "       'MEDICAMENTS POUR DIAGNOSTIC', 'NUTRIMENTS',\n",
       "       'TOUS AUTRES PRODUITS NON THERAPEUTIQUES', 'PRODUITS DE CONTRASTE',\n",
       "       'Homéopathie', 'Non déterminé'], dtype=object)"
      ]
     },
     "execution_count": 8,
     "metadata": {},
     "output_type": "execute_result"
    }
   ],
   "source": [
    "df.Libelle_ATC2.unique()"
   ]
  },
  {
   "cell_type": "code",
   "execution_count": 7,
   "id": "a5860608",
   "metadata": {},
   "outputs": [
    {
     "data": {
      "text/html": [
       "<div>\n",
       "<style scoped>\n",
       "    .dataframe tbody tr th:only-of-type {\n",
       "        vertical-align: middle;\n",
       "    }\n",
       "\n",
       "    .dataframe tbody tr th {\n",
       "        vertical-align: top;\n",
       "    }\n",
       "\n",
       "    .dataframe thead th {\n",
       "        text-align: right;\n",
       "    }\n",
       "</style>\n",
       "<table border=\"1\" class=\"dataframe\">\n",
       "  <thead>\n",
       "    <tr style=\"text-align: right;\">\n",
       "      <th></th>\n",
       "      <th>Code_ATC2</th>\n",
       "      <th>Libelle_ATC2</th>\n",
       "      <th>Taux_de_remboursement</th>\n",
       "      <th>date</th>\n",
       "      <th>Base_de_remboursement</th>\n",
       "      <th>Montant_remboursé</th>\n",
       "      <th>Nombre_de_boites_remboursées</th>\n",
       "    </tr>\n",
       "  </thead>\n",
       "  <tbody>\n",
       "    <tr>\n",
       "      <th>0</th>\n",
       "      <td>A01</td>\n",
       "      <td>PREPARATIONS STOMATOLOGIQUES</td>\n",
       "      <td>100%</td>\n",
       "      <td>2021-01-01</td>\n",
       "      <td>315120.25</td>\n",
       "      <td>315120.25</td>\n",
       "      <td>110516.0</td>\n",
       "    </tr>\n",
       "    <tr>\n",
       "      <th>1</th>\n",
       "      <td>A01</td>\n",
       "      <td>PREPARATIONS STOMATOLOGIQUES</td>\n",
       "      <td>100%</td>\n",
       "      <td>2021-02-01</td>\n",
       "      <td>308886.20</td>\n",
       "      <td>308886.20</td>\n",
       "      <td>107700.0</td>\n",
       "    </tr>\n",
       "    <tr>\n",
       "      <th>2</th>\n",
       "      <td>A01</td>\n",
       "      <td>PREPARATIONS STOMATOLOGIQUES</td>\n",
       "      <td>100%</td>\n",
       "      <td>2021-03-01</td>\n",
       "      <td>368405.72</td>\n",
       "      <td>368405.72</td>\n",
       "      <td>127223.0</td>\n",
       "    </tr>\n",
       "    <tr>\n",
       "      <th>3</th>\n",
       "      <td>A01</td>\n",
       "      <td>PREPARATIONS STOMATOLOGIQUES</td>\n",
       "      <td>100%</td>\n",
       "      <td>2021-04-01</td>\n",
       "      <td>340894.06</td>\n",
       "      <td>340894.06</td>\n",
       "      <td>117039.0</td>\n",
       "    </tr>\n",
       "    <tr>\n",
       "      <th>4</th>\n",
       "      <td>A01</td>\n",
       "      <td>PREPARATIONS STOMATOLOGIQUES</td>\n",
       "      <td>100%</td>\n",
       "      <td>2021-05-01</td>\n",
       "      <td>306747.14</td>\n",
       "      <td>306747.14</td>\n",
       "      <td>105068.0</td>\n",
       "    </tr>\n",
       "  </tbody>\n",
       "</table>\n",
       "</div>"
      ],
      "text/plain": [
       "  Code_ATC2                  Libelle_ATC2 Taux_de_remboursement        date  \\\n",
       "0       A01  PREPARATIONS STOMATOLOGIQUES                  100%  2021-01-01   \n",
       "1       A01  PREPARATIONS STOMATOLOGIQUES                  100%  2021-02-01   \n",
       "2       A01  PREPARATIONS STOMATOLOGIQUES                  100%  2021-03-01   \n",
       "3       A01  PREPARATIONS STOMATOLOGIQUES                  100%  2021-04-01   \n",
       "4       A01  PREPARATIONS STOMATOLOGIQUES                  100%  2021-05-01   \n",
       "\n",
       "   Base_de_remboursement  Montant_remboursé  Nombre_de_boites_remboursées  \n",
       "0              315120.25          315120.25                      110516.0  \n",
       "1              308886.20          308886.20                      107700.0  \n",
       "2              368405.72          368405.72                      127223.0  \n",
       "3              340894.06          340894.06                      117039.0  \n",
       "4              306747.14          306747.14                      105068.0  "
      ]
     },
     "execution_count": 7,
     "metadata": {},
     "output_type": "execute_result"
    }
   ],
   "source": [
    "df.head()"
   ]
  }
 ],
 "metadata": {
  "kernelspec": {
   "display_name": "base",
   "language": "python",
   "name": "python3"
  },
  "language_info": {
   "codemirror_mode": {
    "name": "ipython",
    "version": 3
   },
   "file_extension": ".py",
   "mimetype": "text/x-python",
   "name": "python",
   "nbconvert_exporter": "python",
   "pygments_lexer": "ipython3",
   "version": "3.11.7"
  }
 },
 "nbformat": 4,
 "nbformat_minor": 5
}

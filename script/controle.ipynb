{
 "cells": [
  {
   "cell_type": "code",
   "execution_count": 4,
   "id": "aedb791c",
   "metadata": {},
   "outputs": [],
   "source": [
    "import pandas as pd\n",
    "from pathlib import Path"
   ]
  },
  {
   "cell_type": "code",
   "execution_count": 15,
   "id": "d7eb7249",
   "metadata": {},
   "outputs": [],
   "source": [
    "# Localiser le chemin du fichier (on part du notebook vers processed/)\n",
    "processed_path = Path(\"../processed/AMELI_2021_to_2024.csv\")\n",
    "\n",
    "# Charger le fichier CSV\n",
    "df = pd.read_csv(processed_path)"
   ]
  },
  {
   "cell_type": "code",
   "execution_count": 17,
   "id": "a694d5e4",
   "metadata": {},
   "outputs": [
    {
     "data": {
      "text/plain": [
       "array(['2021-01-01', '2021-02-01', '2021-03-01', '2021-04-01',\n",
       "       '2021-05-01', '2021-06-01', '2021-07-01', '2021-08-01',\n",
       "       '2021-09-01', '2021-10-01', '2021-11-01', '2021-12-01',\n",
       "       '2022-01-01', '2022-02-01', '2022-03-01', '2022-04-01',\n",
       "       '2022-05-01', '2022-06-01', '2022-07-01', '2022-08-01',\n",
       "       '2022-09-01', '2022-10-01', '2022-11-01', '2022-12-01',\n",
       "       '2023-01-01', '2023-02-01', '2023-03-01', '2023-04-01',\n",
       "       '2023-05-01', '2023-06-01', '2023-07-01', '2023-08-01',\n",
       "       '2023-09-01', '2023-10-01', '2023-11-01', '2023-12-01',\n",
       "       '2024-01-01', '2024-02-01', '2024-03-01', '2024-04-01',\n",
       "       '2024-05-01', '2024-06-01', '2024-07-01', '2024-08-01',\n",
       "       '2024-09-01', '2024-10-01', '2024-11-01', '2024-12-01'],\n",
       "      dtype=object)"
      ]
     },
     "execution_count": 17,
     "metadata": {},
     "output_type": "execute_result"
    }
   ],
   "source": [
    "df.date.unique()"
   ]
  }
 ],
 "metadata": {
  "kernelspec": {
   "display_name": "base",
   "language": "python",
   "name": "python3"
  },
  "language_info": {
   "codemirror_mode": {
    "name": "ipython",
    "version": 3
   },
   "file_extension": ".py",
   "mimetype": "text/x-python",
   "name": "python",
   "nbconvert_exporter": "python",
   "pygments_lexer": "ipython3",
   "version": "3.11.7"
  }
 },
 "nbformat": 4,
 "nbformat_minor": 5
}

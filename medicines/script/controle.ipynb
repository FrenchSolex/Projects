{
 "cells": [
  {
   "cell_type": "code",
   "execution_count": 2,
   "id": "aedb791c",
   "metadata": {},
   "outputs": [],
   "source": [
    "import pandas as pd\n",
    "from pathlib import Path\n",
    "import duckdb as db"
   ]
  },
  {
   "cell_type": "code",
   "execution_count": 46,
   "id": "d7eb7249",
   "metadata": {},
   "outputs": [],
   "source": [
    "# Localiser le chemin du fichier (on part du notebook vers processed/)\n",
    "processed_path = Path(\"../processed/AMELI_ATC2_2021_to_2024_bis.csv\")\n",
    "\n",
    "# Charger le fichier CSV\n",
    "df = pd.read_csv(processed_path)"
   ]
  },
  {
   "cell_type": "code",
   "execution_count": 47,
   "id": "a694d5e4",
   "metadata": {},
   "outputs": [
    {
     "data": {
      "text/plain": [
       "np.int64(0)"
      ]
     },
     "execution_count": 47,
     "metadata": {},
     "output_type": "execute_result"
    }
   ],
   "source": [
    "df.duplicated().sum()"
   ]
  },
  {
   "cell_type": "code",
   "execution_count": 8,
   "id": "3a97bd02",
   "metadata": {},
   "outputs": [
    {
     "data": {
      "text/plain": [
       "array(['PREPARATIONS STOMATOLOGIQUES',\n",
       "       \"MEDICAMENTS POUR LES TROUBLES DE L'ACIDITE\",\n",
       "       'MEDICAMENTS POUR LES TROUBLES FONCTIONNELS GASTROINTESTINAUX',\n",
       "       'ANTIEMETIQUES ET ANTINAUSEEUX',\n",
       "       'THERAPEUTIQUE HEPATIQUE ET BILIAIRE', 'LAXATIFS',\n",
       "       'ANTIDIARRHEIQUES, ANTIINFLAMMATOIRES ET ANTIINFECTIEUX INTESTINAUX',\n",
       "       'MEDICAMENTS DE LA DIGESTION, ENZYMES INCLUSES',\n",
       "       'MEDICAMENTS DU DIABETE', 'VITAMINES', 'SUPPLEMENTS MINERAUX',\n",
       "       'TONIQUES', 'ANABOLISANTS A USAGE SYSTEMIQUE',\n",
       "       'AUTRES MEDICAMENTS DES VOIES DIGESTIVES ET DU METABOLISME',\n",
       "       'ANTITHROMBOTIQUES', 'ANTIHEMMORRAGIQUES',\n",
       "       'PREPARATIONS ANTIANEMIQUES',\n",
       "       'SUBSTITUTS DU SANG ET SOLUTIONS DE PERFUSION',\n",
       "       'AUTRES MEDICAMENTS UTILISES EN HEMATOLOGIE',\n",
       "       'MEDICAMENTS EN CARDIOLOGIE', 'ANTIHYPERTENSEURS', 'DIURETIQUES',\n",
       "       'VASODILATATEURS PERIPHERIQUES', 'VASCULOPROTECTEURS',\n",
       "       'BETABLOQUANTS', 'INHIBITEURS CALCIQUES',\n",
       "       'MEDICAMENTS AGISSANT SUR LE SYSTEME RENINE-ANGIOTENSINE',\n",
       "       'AGENTS MODIFIANT LES LIPIDES',\n",
       "       'ANTIFONGIQUES A USAGE DERMATOLOGIQUE',\n",
       "       'EMOLLIENTS ET PROTECTEURS',\n",
       "       'PREPARATIONS POUR LE TRAITEMENT DES PLAIES ET ULCERES',\n",
       "       'MEDICAMENTS CONTRE LE PSORIASIS',\n",
       "       'ANTIBIOTIQUES ET CHIMIOTHERAPIE A USAGE DERMATOLOGIQUE',\n",
       "       'CORTICOIDES, PREPARATIONS DERMATOLOGIQUES',\n",
       "       'ANTISEPTIQUES ET DESINFECTANTS', 'PREPARATIONS ANTIACNEIQUES',\n",
       "       'AUTRES PREPARATIONS DERMATOLOGIQUES',\n",
       "       'ANTIINFECTIEUX ET ANTISEPTIQUES A USAGE GYNECOLOGIQUE',\n",
       "       'AUTRES MEDICAMENTS GYNECOLOGIQUES',\n",
       "       'HORMONES SEXUELLES ET MODULATEURS DE LA FONCTION GENITALE',\n",
       "       'MEDICAMENTS UROLOGIQUES',\n",
       "       'HORMONES HYPOPHYSAIRES,HYPOTHALAMIQUES ET ANALOGUES',\n",
       "       'CORTICOIDES A USAGE SYSTEMIQUE', 'MEDICAMENTS DE LA THYROIDE',\n",
       "       'HORMONES PANCREATIQUES', \"MEDICAMENTS DE L'EQUILIBRE CALCIQUE\",\n",
       "       'ANTIBACTERIENS A USAGE SYSTEMIQUE',\n",
       "       'ANTIMYCOSIQUES A USAGE SYSTEMIQUE', 'ANTIMYCOBACTERIENS',\n",
       "       'ANTIVIRAUX A USAGE SYSTEMIQUE', 'IMMUNSERUMS ET IMMUNOGLOBULINES',\n",
       "       'VACCINS', 'ANTINEOPLASIQUES', 'THERAPEUTIQUE ENDOCRINE',\n",
       "       'IMMUNOSTIMULANTS', 'IMMUNOSUPPRESSEURS',\n",
       "       'ANTIINFLAMMATOIRES ET ANTIRHUMATISMAUX',\n",
       "       'TOPIQUES POUR DOULEURS ARTICULAIRES OU MUSCULAIRES',\n",
       "       'MYORELAXANTS', 'ANTIGOUTTEUX',\n",
       "       'MEDICAMENTS POUR LE TRAITEMENT DES DESORDRES OSSEUX',\n",
       "       'AUTRES MEDICAMENTS DES DESORDRES MUSCULOSQUELETTIQUES',\n",
       "       'ANESTHESIQUES', 'ANALGESIQUES', 'ANTIEPILEPTIQUES',\n",
       "       'ANTIPARKINSONIENS', 'PSYCHOLEPTIQUES', 'PSYCHOANALEPTIQUES',\n",
       "       'AUTRES MEDICAMENTS DU SYSTEME NERVEUX', 'ANTIPROTOZOAIRES',\n",
       "       'ANTHELMINTHIQUES', 'PYRETHRINES', 'PREPARATIONS NASALES',\n",
       "       'MEDICAMENTS POUR LES SYNDROMES OBSTRUCTIFS DES VOIES AERIENNES',\n",
       "       'MEDICAMENTS DU RHUME ET DE LA TOUX',\n",
       "       'ANTIHISTAMINIQUES A USAGE SYSTEMIQUE',\n",
       "       \"AUTRES MEDICAMENTS DE L'APPAREIL RESPIRATOIRE\",\n",
       "       'MEDICAMENTS OPHTALMOLOGIQUES', 'MEDICAMENTS OTOLOGIQUES',\n",
       "       'ALLERGENES', 'TOUS AUTRES MEDICAMENTS',\n",
       "       'MEDICAMENTS POUR DIAGNOSTIC', 'NUTRIMENTS',\n",
       "       'TOUS AUTRES PRODUITS NON THERAPEUTIQUES', 'PRODUITS DE CONTRASTE',\n",
       "       'Homéopathie', 'Non déterminé'], dtype=object)"
      ]
     },
     "execution_count": 8,
     "metadata": {},
     "output_type": "execute_result"
    }
   ],
   "source": [
    "df.Libelle_ATC2.unique()"
   ]
  },
  {
   "cell_type": "code",
   "execution_count": 3,
   "id": "a5860608",
   "metadata": {},
   "outputs": [
    {
     "data": {
      "text/html": [
       "<div>\n",
       "<style scoped>\n",
       "    .dataframe tbody tr th:only-of-type {\n",
       "        vertical-align: middle;\n",
       "    }\n",
       "\n",
       "    .dataframe tbody tr th {\n",
       "        vertical-align: top;\n",
       "    }\n",
       "\n",
       "    .dataframe thead th {\n",
       "        text-align: right;\n",
       "    }\n",
       "</style>\n",
       "<table border=\"1\" class=\"dataframe\">\n",
       "  <thead>\n",
       "    <tr style=\"text-align: right;\">\n",
       "      <th></th>\n",
       "      <th>Code_ATC2</th>\n",
       "      <th>Libelle_ATC2</th>\n",
       "      <th>Taux_de_remboursement</th>\n",
       "      <th>date</th>\n",
       "      <th>Base_de_remboursement</th>\n",
       "      <th>Montant_remboursé</th>\n",
       "      <th>Nombre_de_boites_remboursées</th>\n",
       "    </tr>\n",
       "  </thead>\n",
       "  <tbody>\n",
       "    <tr>\n",
       "      <th>0</th>\n",
       "      <td>A01</td>\n",
       "      <td>PREPARATIONS STOMATOLOGIQUES</td>\n",
       "      <td>100%</td>\n",
       "      <td>2021-01-01</td>\n",
       "      <td>315120.25</td>\n",
       "      <td>315120.25</td>\n",
       "      <td>110516.0</td>\n",
       "    </tr>\n",
       "    <tr>\n",
       "      <th>1</th>\n",
       "      <td>A01</td>\n",
       "      <td>PREPARATIONS STOMATOLOGIQUES</td>\n",
       "      <td>100%</td>\n",
       "      <td>2021-02-01</td>\n",
       "      <td>308886.20</td>\n",
       "      <td>308886.20</td>\n",
       "      <td>107700.0</td>\n",
       "    </tr>\n",
       "    <tr>\n",
       "      <th>2</th>\n",
       "      <td>A01</td>\n",
       "      <td>PREPARATIONS STOMATOLOGIQUES</td>\n",
       "      <td>100%</td>\n",
       "      <td>2021-03-01</td>\n",
       "      <td>368405.72</td>\n",
       "      <td>368405.72</td>\n",
       "      <td>127223.0</td>\n",
       "    </tr>\n",
       "    <tr>\n",
       "      <th>3</th>\n",
       "      <td>A01</td>\n",
       "      <td>PREPARATIONS STOMATOLOGIQUES</td>\n",
       "      <td>100%</td>\n",
       "      <td>2021-04-01</td>\n",
       "      <td>340894.06</td>\n",
       "      <td>340894.06</td>\n",
       "      <td>117039.0</td>\n",
       "    </tr>\n",
       "    <tr>\n",
       "      <th>4</th>\n",
       "      <td>A01</td>\n",
       "      <td>PREPARATIONS STOMATOLOGIQUES</td>\n",
       "      <td>100%</td>\n",
       "      <td>2021-05-01</td>\n",
       "      <td>306747.14</td>\n",
       "      <td>306747.14</td>\n",
       "      <td>105068.0</td>\n",
       "    </tr>\n",
       "  </tbody>\n",
       "</table>\n",
       "</div>"
      ],
      "text/plain": [
       "  Code_ATC2                  Libelle_ATC2 Taux_de_remboursement        date  \\\n",
       "0       A01  PREPARATIONS STOMATOLOGIQUES                  100%  2021-01-01   \n",
       "1       A01  PREPARATIONS STOMATOLOGIQUES                  100%  2021-02-01   \n",
       "2       A01  PREPARATIONS STOMATOLOGIQUES                  100%  2021-03-01   \n",
       "3       A01  PREPARATIONS STOMATOLOGIQUES                  100%  2021-04-01   \n",
       "4       A01  PREPARATIONS STOMATOLOGIQUES                  100%  2021-05-01   \n",
       "\n",
       "   Base_de_remboursement  Montant_remboursé  Nombre_de_boites_remboursées  \n",
       "0              315120.25          315120.25                      110516.0  \n",
       "1              308886.20          308886.20                      107700.0  \n",
       "2              368405.72          368405.72                      127223.0  \n",
       "3              340894.06          340894.06                      117039.0  \n",
       "4              306747.14          306747.14                      105068.0  "
      ]
     },
     "execution_count": 3,
     "metadata": {},
     "output_type": "execute_result"
    }
   ],
   "source": [
    "df.head()"
   ]
  },
  {
   "cell_type": "code",
   "execution_count": 6,
   "id": "fe3aff87",
   "metadata": {},
   "outputs": [
    {
     "data": {
      "text/plain": [
       "Libelle_ATC2\n",
       "ANTINEOPLASIQUES                                         1.038011e+10\n",
       "IMMUNOSUPPRESSEURS                                       9.354388e+09\n",
       "MEDICAMENTS DU DIABETE                                   6.632360e+09\n",
       "ANTITHROMBOTIQUES                                        5.631191e+09\n",
       "THERAPEUTIQUE ENDOCRINE                                  5.364124e+09\n",
       "                                                             ...     \n",
       "NUTRIMENTS                                               3.613063e+06\n",
       "VASCULOPROTECTEURS                                       3.209808e+06\n",
       "PREPARATIONS POUR LE TRAITEMENT DES PLAIES ET ULCERES    1.291063e+06\n",
       "TONIQUES                                                 8.505740e+03\n",
       "ANABOLISANTS A USAGE SYSTEMIQUE                          1.643480e+03\n",
       "Name: Montant_remboursé, Length: 87, dtype: float64"
      ]
     },
     "execution_count": 6,
     "metadata": {},
     "output_type": "execute_result"
    }
   ],
   "source": [
    "df.groupby('Libelle_ATC2')['Montant_remboursé'].sum().sort_values(ascending=False)"
   ]
  },
  {
   "cell_type": "code",
   "execution_count": 48,
   "id": "6766b876",
   "metadata": {},
   "outputs": [
    {
     "data": {
      "text/html": [
       "<div>\n",
       "<style scoped>\n",
       "    .dataframe tbody tr th:only-of-type {\n",
       "        vertical-align: middle;\n",
       "    }\n",
       "\n",
       "    .dataframe tbody tr th {\n",
       "        vertical-align: top;\n",
       "    }\n",
       "\n",
       "    .dataframe thead th {\n",
       "        text-align: right;\n",
       "    }\n",
       "</style>\n",
       "<table border=\"1\" class=\"dataframe\">\n",
       "  <thead>\n",
       "    <tr style=\"text-align: right;\">\n",
       "      <th></th>\n",
       "      <th>Total</th>\n",
       "    </tr>\n",
       "  </thead>\n",
       "  <tbody>\n",
       "    <tr>\n",
       "      <th>0</th>\n",
       "      <td>1.038011e+10</td>\n",
       "    </tr>\n",
       "  </tbody>\n",
       "</table>\n",
       "</div>"
      ],
      "text/plain": [
       "          Total\n",
       "0  1.038011e+10"
      ]
     },
     "execution_count": 48,
     "metadata": {},
     "output_type": "execute_result"
    }
   ],
   "source": [
    "query = \"\"\"\n",
    "SELECT \n",
    "SUM(Montant_remboursé) as Total\n",
    "FROM df\n",
    "WHERE Code_ATC2 LIKE 'L01'\n",
    "\"\"\"\n",
    "db.sql(query).df()"
   ]
  },
  {
   "cell_type": "code",
   "execution_count": 49,
   "id": "6793be69",
   "metadata": {},
   "outputs": [],
   "source": [
    "# Localiser le chemin du fichier (on part du notebook vers processed/)\n",
    "processed_path5 = Path(\"../processed/AMELI_ATC5_2021_to_2024.csv\")\n",
    "processed_path5bis = Path(\"../processed/AMELI_ATC5_2021_to_2024_bis.csv\")\n",
    "\n",
    "# Charger le fichier CSV\n",
    "df5 = pd.read_csv(processed_path5)\n",
    "df5bis = pd.read_csv(processed_path5bis)"
   ]
  },
  {
   "cell_type": "code",
   "execution_count": 40,
   "id": "2db513c8",
   "metadata": {},
   "outputs": [
    {
     "data": {
      "text/html": [
       "<div>\n",
       "<style scoped>\n",
       "    .dataframe tbody tr th:only-of-type {\n",
       "        vertical-align: middle;\n",
       "    }\n",
       "\n",
       "    .dataframe tbody tr th {\n",
       "        vertical-align: top;\n",
       "    }\n",
       "\n",
       "    .dataframe thead th {\n",
       "        text-align: right;\n",
       "    }\n",
       "</style>\n",
       "<table border=\"1\" class=\"dataframe\">\n",
       "  <thead>\n",
       "    <tr style=\"text-align: right;\">\n",
       "      <th></th>\n",
       "      <th>Code_ATC5</th>\n",
       "      <th>Libelle_ATC5</th>\n",
       "      <th>Taux_de_remboursement</th>\n",
       "      <th>date</th>\n",
       "      <th>Base_de_remboursement</th>\n",
       "      <th>Montant_remboursé</th>\n",
       "      <th>Nombre_de_boites_remboursées</th>\n",
       "    </tr>\n",
       "  </thead>\n",
       "  <tbody>\n",
       "    <tr>\n",
       "      <th>0</th>\n",
       "      <td>A01AA01</td>\n",
       "      <td>SODIUM FLUORURE</td>\n",
       "      <td>100%</td>\n",
       "      <td>2021-01-01</td>\n",
       "      <td>250.82</td>\n",
       "      <td>250.82</td>\n",
       "      <td>141</td>\n",
       "    </tr>\n",
       "    <tr>\n",
       "      <th>1</th>\n",
       "      <td>A01AA01</td>\n",
       "      <td>SODIUM FLUORURE</td>\n",
       "      <td>100%</td>\n",
       "      <td>2021-02-01</td>\n",
       "      <td>287.61</td>\n",
       "      <td>287.61</td>\n",
       "      <td>156</td>\n",
       "    </tr>\n",
       "    <tr>\n",
       "      <th>2</th>\n",
       "      <td>A01AA01</td>\n",
       "      <td>SODIUM FLUORURE</td>\n",
       "      <td>100%</td>\n",
       "      <td>2021-03-01</td>\n",
       "      <td>301.97</td>\n",
       "      <td>301.97</td>\n",
       "      <td>167</td>\n",
       "    </tr>\n",
       "    <tr>\n",
       "      <th>3</th>\n",
       "      <td>A01AA01</td>\n",
       "      <td>SODIUM FLUORURE</td>\n",
       "      <td>100%</td>\n",
       "      <td>2021-04-01</td>\n",
       "      <td>285.92</td>\n",
       "      <td>285.92</td>\n",
       "      <td>158</td>\n",
       "    </tr>\n",
       "    <tr>\n",
       "      <th>4</th>\n",
       "      <td>A01AA01</td>\n",
       "      <td>SODIUM FLUORURE</td>\n",
       "      <td>100%</td>\n",
       "      <td>2021-05-01</td>\n",
       "      <td>235.58</td>\n",
       "      <td>235.58</td>\n",
       "      <td>121</td>\n",
       "    </tr>\n",
       "  </tbody>\n",
       "</table>\n",
       "</div>"
      ],
      "text/plain": [
       "  Code_ATC5     Libelle_ATC5 Taux_de_remboursement        date  \\\n",
       "0   A01AA01  SODIUM FLUORURE                  100%  2021-01-01   \n",
       "1   A01AA01  SODIUM FLUORURE                  100%  2021-02-01   \n",
       "2   A01AA01  SODIUM FLUORURE                  100%  2021-03-01   \n",
       "3   A01AA01  SODIUM FLUORURE                  100%  2021-04-01   \n",
       "4   A01AA01  SODIUM FLUORURE                  100%  2021-05-01   \n",
       "\n",
       "   Base_de_remboursement  Montant_remboursé  Nombre_de_boites_remboursées  \n",
       "0                 250.82             250.82                           141  \n",
       "1                 287.61             287.61                           156  \n",
       "2                 301.97             301.97                           167  \n",
       "3                 285.92             285.92                           158  \n",
       "4                 235.58             235.58                           121  "
      ]
     },
     "execution_count": 40,
     "metadata": {},
     "output_type": "execute_result"
    }
   ],
   "source": [
    "df5.head()"
   ]
  },
  {
   "cell_type": "code",
   "execution_count": 51,
   "id": "2f7a74a0",
   "metadata": {},
   "outputs": [
    {
     "name": "stdout",
     "output_type": "stream",
     "text": [
      "(111324, 7)\n",
      "(108312, 7)\n"
     ]
    }
   ],
   "source": [
    "print(df5.shape)\n",
    "print(df5bis.shape)"
   ]
  },
  {
   "cell_type": "code",
   "execution_count": 41,
   "id": "a76314e2",
   "metadata": {},
   "outputs": [
    {
     "data": {
      "text/html": [
       "<div>\n",
       "<style scoped>\n",
       "    .dataframe tbody tr th:only-of-type {\n",
       "        vertical-align: middle;\n",
       "    }\n",
       "\n",
       "    .dataframe tbody tr th {\n",
       "        vertical-align: top;\n",
       "    }\n",
       "\n",
       "    .dataframe thead th {\n",
       "        text-align: right;\n",
       "    }\n",
       "</style>\n",
       "<table border=\"1\" class=\"dataframe\">\n",
       "  <thead>\n",
       "    <tr style=\"text-align: right;\">\n",
       "      <th></th>\n",
       "      <th>Total</th>\n",
       "    </tr>\n",
       "  </thead>\n",
       "  <tbody>\n",
       "    <tr>\n",
       "      <th>0</th>\n",
       "      <td>1.086819e+10</td>\n",
       "    </tr>\n",
       "  </tbody>\n",
       "</table>\n",
       "</div>"
      ],
      "text/plain": [
       "          Total\n",
       "0  1.086819e+10"
      ]
     },
     "execution_count": 41,
     "metadata": {},
     "output_type": "execute_result"
    }
   ],
   "source": [
    "query = \"\"\"\n",
    "SELECT \n",
    "SUM(Montant_remboursé) as Total\n",
    "FROM df5\n",
    "WHERE Code_ATC5 LIKE 'L01%'\n",
    "\"\"\"\n",
    "db.sql(query).df()"
   ]
  },
  {
   "cell_type": "code",
   "execution_count": 52,
   "id": "ba8cab6b",
   "metadata": {},
   "outputs": [
    {
     "data": {
      "text/plain": [
       "┌───────────┬────────────────────────────────────┬───────────────────────┬────────────┬───────────────────────┬───────────────────┬──────────────────────────────┐\n",
       "│ Code_ATC5 │            Libelle_ATC5            │ Taux_de_remboursement │    date    │ Base_de_remboursement │ Montant_remboursé │ Nombre_de_boites_remboursées │\n",
       "│  varchar  │              varchar               │        varchar        │  varchar   │        double         │      double       │            int64             │\n",
       "├───────────┼────────────────────────────────────┼───────────────────────┼────────────┼───────────────────────┼───────────────────┼──────────────────────────────┤\n",
       "│ A02AH     │ ANTIACIDES + BICARBONATE DE SODIUM │ 100%                  │ 2024-01-01 │              14407.14 │          14407.14 │                          526 │\n",
       "│ A02AH     │ ANTIACIDES + BICARBONATE DE SODIUM │ 100%                  │ 2024-02-01 │              56112.32 │          56112.32 │                         2048 │\n",
       "│ A02AH     │ ANTIACIDES + BICARBONATE DE SODIUM │ 100%                  │ 2024-03-01 │             112236.59 │         112236.59 │                         4095 │\n",
       "│ A02AH     │ ANTIACIDES + BICARBONATE DE SODIUM │ 100%                  │ 2024-04-01 │             194371.01 │         194371.01 │                         7089 │\n",
       "│ A02AH     │ ANTIACIDES + BICARBONATE DE SODIUM │ 100%                  │ 2024-05-01 │             241646.21 │         241646.21 │                         8810 │\n",
       "│ A02AH     │ ANTIACIDES + BICARBONATE DE SODIUM │ 100%                  │ 2024-06-01 │              278878.4 │          278878.4 │                        10163 │\n",
       "│ A02AH     │ ANTIACIDES + BICARBONATE DE SODIUM │ 100%                  │ 2024-07-01 │              385354.5 │          385354.5 │                        14019 │\n",
       "│ A02AH     │ ANTIACIDES + BICARBONATE DE SODIUM │ 100%                  │ 2024-08-01 │             368268.75 │         368268.75 │                        13398 │\n",
       "│ A02AH     │ ANTIACIDES + BICARBONATE DE SODIUM │ 100%                  │ 2024-09-01 │             416687.61 │         416687.61 │                        15141 │\n",
       "│ A02AH     │ ANTIACIDES + BICARBONATE DE SODIUM │ 100%                  │ 2024-10-01 │              506539.3 │          506539.3 │                        18394 │\n",
       "│ ·         │       ·                            │  ·                    │     ·      │                    ·  │                ·  │                            · │\n",
       "│ ·         │       ·                            │  ·                    │     ·      │                    ·  │                ·  │                            · │\n",
       "│ ·         │       ·                            │  ·                    │     ·      │                    ·  │                ·  │                            · │\n",
       "│ X         │ Non déterminé                      │ non à 100%            │ 2024-03-01 │                   0.0 │               0.0 │                            0 │\n",
       "│ X         │ Non déterminé                      │ non à 100%            │ 2024-04-01 │                   0.0 │               0.0 │                            0 │\n",
       "│ X         │ Non déterminé                      │ non à 100%            │ 2024-05-01 │                 56.99 │             37.04 │                            1 │\n",
       "│ X         │ Non déterminé                      │ non à 100%            │ 2024-06-01 │                   0.0 │               0.0 │                            0 │\n",
       "│ X         │ Non déterminé                      │ non à 100%            │ 2024-07-01 │             238935.41 │         238935.41 │                         1598 │\n",
       "│ X         │ Non déterminé                      │ non à 100%            │ 2024-08-01 │             196965.01 │         196965.01 │                         1330 │\n",
       "│ X         │ Non déterminé                      │ non à 100%            │ 2024-09-01 │             197382.53 │         197382.53 │                         1324 │\n",
       "│ X         │ Non déterminé                      │ non à 100%            │ 2024-10-01 │             217058.47 │         217058.47 │                         1456 │\n",
       "│ X         │ Non déterminé                      │ non à 100%            │ 2024-11-01 │             189095.44 │         189095.44 │                         1293 │\n",
       "│ X         │ Non déterminé                      │ non à 100%            │ 2024-12-01 │             207685.44 │         207685.44 │                         1402 │\n",
       "├───────────┴────────────────────────────────────┴───────────────────────┴────────────┴───────────────────────┴───────────────────┴──────────────────────────────┤\n",
       "│ 3012 rows (20 shown)                                                                                                                                 7 columns │\n",
       "└────────────────────────────────────────────────────────────────────────────────────────────────────────────────────────────────────────────────────────────────┘"
      ]
     },
     "execution_count": 52,
     "metadata": {},
     "output_type": "execute_result"
    }
   ],
   "source": [
    "query=\"\"\"\n",
    "SELECT *\n",
    "FROM df5\n",
    "WHERE LENGTH(Code_ATC5) < 7\n",
    "\"\"\"\n",
    "db.sql(query)"
   ]
  },
  {
   "cell_type": "code",
   "execution_count": 44,
   "id": "94bef7c7",
   "metadata": {},
   "outputs": [
    {
     "data": {
      "text/html": [
       "<div>\n",
       "<style scoped>\n",
       "    .dataframe tbody tr th:only-of-type {\n",
       "        vertical-align: middle;\n",
       "    }\n",
       "\n",
       "    .dataframe tbody tr th {\n",
       "        vertical-align: top;\n",
       "    }\n",
       "\n",
       "    .dataframe thead th {\n",
       "        text-align: right;\n",
       "    }\n",
       "</style>\n",
       "<table border=\"1\" class=\"dataframe\">\n",
       "  <thead>\n",
       "    <tr style=\"text-align: right;\">\n",
       "      <th></th>\n",
       "      <th>Code_ATC5</th>\n",
       "      <th>Libelle_ATC5</th>\n",
       "      <th>nb_lignes</th>\n",
       "    </tr>\n",
       "  </thead>\n",
       "  <tbody>\n",
       "  </tbody>\n",
       "</table>\n",
       "</div>"
      ],
      "text/plain": [
       "Empty DataFrame\n",
       "Columns: [Code_ATC5, Libelle_ATC5, nb_lignes]\n",
       "Index: []"
      ]
     },
     "execution_count": 44,
     "metadata": {},
     "output_type": "execute_result"
    }
   ],
   "source": [
    "query=\"\"\"\n",
    "SELECT Code_ATC5, Libelle_ATC5, COUNT(*) AS nb_lignes\n",
    "FROM df5\n",
    "WHERE LENGTH(Code_ATC5) != 7\n",
    "GROUP BY Code_ATC5, Libelle_ATC5\n",
    "\"\"\"\n",
    "db.sql(query).df()"
   ]
  },
  {
   "cell_type": "code",
   "execution_count": 12,
   "id": "1a7ec63c",
   "metadata": {},
   "outputs": [],
   "source": [
    "# Localiser le chemin du fichier (on part du notebook vers processed/)\n",
    "processed_path3 = Path(\"../processed/AMELI_ATC3_2021_to_2024.csv\")\n",
    "\n",
    "# Charger le fichier CSV\n",
    "df3 = pd.read_csv(processed_path3)"
   ]
  },
  {
   "cell_type": "code",
   "execution_count": 10,
   "id": "7378b4bc",
   "metadata": {},
   "outputs": [
    {
     "data": {
      "text/html": [
       "<div>\n",
       "<style scoped>\n",
       "    .dataframe tbody tr th:only-of-type {\n",
       "        vertical-align: middle;\n",
       "    }\n",
       "\n",
       "    .dataframe tbody tr th {\n",
       "        vertical-align: top;\n",
       "    }\n",
       "\n",
       "    .dataframe thead th {\n",
       "        text-align: right;\n",
       "    }\n",
       "</style>\n",
       "<table border=\"1\" class=\"dataframe\">\n",
       "  <thead>\n",
       "    <tr style=\"text-align: right;\">\n",
       "      <th></th>\n",
       "      <th>Total</th>\n",
       "    </tr>\n",
       "  </thead>\n",
       "  <tbody>\n",
       "    <tr>\n",
       "      <th>0</th>\n",
       "      <td>7.863624e+09</td>\n",
       "    </tr>\n",
       "  </tbody>\n",
       "</table>\n",
       "</div>"
      ],
      "text/plain": [
       "          Total\n",
       "0  7.863624e+09"
      ]
     },
     "execution_count": 10,
     "metadata": {},
     "output_type": "execute_result"
    }
   ],
   "source": [
    "query = \"\"\"\n",
    "SELECT \n",
    "SUM(Montant_remboursé) as Total\n",
    "FROM df3\n",
    "WHERE Code_ATC3 LIKE 'L01%'\n",
    "\"\"\"\n",
    "db.sql(query).df()"
   ]
  },
  {
   "cell_type": "code",
   "execution_count": 14,
   "id": "00b7f0a1",
   "metadata": {},
   "outputs": [],
   "source": [
    "# Localiser le chemin du fichier (on part du notebook vers processed/)\n",
    "processed_path4 = Path(\"../processed/AMELI_ATC4_2021_to_2024.csv\")\n",
    "\n",
    "# Charger le fichier CSV\n",
    "df4 = pd.read_csv(processed_path4)"
   ]
  },
  {
   "cell_type": "code",
   "execution_count": 15,
   "id": "4a8c3e13",
   "metadata": {},
   "outputs": [
    {
     "data": {
      "text/html": [
       "<div>\n",
       "<style scoped>\n",
       "    .dataframe tbody tr th:only-of-type {\n",
       "        vertical-align: middle;\n",
       "    }\n",
       "\n",
       "    .dataframe tbody tr th {\n",
       "        vertical-align: top;\n",
       "    }\n",
       "\n",
       "    .dataframe thead th {\n",
       "        text-align: right;\n",
       "    }\n",
       "</style>\n",
       "<table border=\"1\" class=\"dataframe\">\n",
       "  <thead>\n",
       "    <tr style=\"text-align: right;\">\n",
       "      <th></th>\n",
       "      <th>Total</th>\n",
       "    </tr>\n",
       "  </thead>\n",
       "  <tbody>\n",
       "    <tr>\n",
       "      <th>0</th>\n",
       "      <td>8.846046e+09</td>\n",
       "    </tr>\n",
       "  </tbody>\n",
       "</table>\n",
       "</div>"
      ],
      "text/plain": [
       "          Total\n",
       "0  8.846046e+09"
      ]
     },
     "execution_count": 15,
     "metadata": {},
     "output_type": "execute_result"
    }
   ],
   "source": [
    "query = \"\"\"\n",
    "SELECT \n",
    "SUM(Montant_remboursé) as Total\n",
    "FROM df4\n",
    "WHERE Code_ATC4 LIKE 'L01%'\n",
    "\"\"\"\n",
    "db.sql(query).df()"
   ]
  },
  {
   "cell_type": "code",
   "execution_count": 16,
   "id": "3b524ef8",
   "metadata": {},
   "outputs": [
    {
     "data": {
      "text/plain": [
       "┌────────────┐\n",
       "│ Code_ATC4  │\n",
       "│  varchar   │\n",
       "├────────────┤\n",
       "│ S01EA      │\n",
       "│ S01EA      │\n",
       "│ S01EA      │\n",
       "│ S01EA      │\n",
       "│ S01EA      │\n",
       "│ S01EA      │\n",
       "│ S01EA      │\n",
       "│ S01EA      │\n",
       "│ S01EA      │\n",
       "│ S01EA      │\n",
       "│   ·        │\n",
       "│   ·        │\n",
       "│   ·        │\n",
       "│ S01EE      │\n",
       "│ S01EE      │\n",
       "│ S01EE      │\n",
       "│ S01EE      │\n",
       "│ S01EE      │\n",
       "│ S01EE      │\n",
       "│ S01EE      │\n",
       "│ S01EE      │\n",
       "│ S01EE      │\n",
       "│ S01EE      │\n",
       "├────────────┤\n",
       "│  480 rows  │\n",
       "│ (20 shown) │\n",
       "└────────────┘"
      ]
     },
     "execution_count": 16,
     "metadata": {},
     "output_type": "execute_result"
    }
   ],
   "source": [
    "query=\"\"\"\n",
    "SELECT Code_ATC4\n",
    "FROM df4\n",
    "WHERE Code_ATC4 LIKE 'S01E%'\n",
    "\"\"\"\n",
    "db.sql(query)"
   ]
  }
 ],
 "metadata": {
  "kernelspec": {
   "display_name": "myenv2",
   "language": "python",
   "name": "python3"
  },
  "language_info": {
   "codemirror_mode": {
    "name": "ipython",
    "version": 3
   },
   "file_extension": ".py",
   "mimetype": "text/x-python",
   "name": "python",
   "nbconvert_exporter": "python",
   "pygments_lexer": "ipython3",
   "version": "3.13.2"
  }
 },
 "nbformat": 4,
 "nbformat_minor": 5
}
